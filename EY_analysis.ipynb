{
 "cells": [
  {
   "cell_type": "code",
   "execution_count": null,
   "metadata": {
    "scrolled": true
   },
   "outputs": [],
   "source": [
    "import pandas as pd\n",
    "import datetime as dt\n",
    "import numpy as np\n",
    "from sklearn.metrics import f1_score\n",
    "from sklearn.preprocessing import StandardScaler\n",
    "from sklearn.model_selection import train_test_split\n",
    "from sklearn.decomposition import PCA\n",
    "from scipy import stats\n",
    "from sklearn.metrics import confusion_matrix\n",
    "\n",
    "def cleaning(train_data):\n",
    "    train_data['hours_entry'] = list(map(lambda x: int(x.split(':')[0]), train_data['time_entry']))\n",
    "    train_data['minutes_entry'] = list(map(lambda x: int(x.split(':')[1]), train_data['time_entry']))\n",
    "    train_data['seconds_entry'] = list(map(lambda x: int(x.split(':')[2]), train_data['time_entry']))\n",
    "\n",
    "    train_data['hours_exit'] = list(map(lambda x: int(x.split(':')[0]), train_data['time_exit']))\n",
    "    train_data['minutes_exit'] = list(map(lambda x: int(x.split(':')[1]), train_data['time_exit']))\n",
    "    train_data['seconds_exit'] = list(map(lambda x: int(x.split(':')[2]), train_data['time_exit']))\n",
    "    \n",
    "    return train_data\n",
    "\n",
    "def targetEval(hours_exit, x_exit, y_exit):\n",
    "    if ((hours_exit==15) & \n",
    "        (x_exit < 3770901.5068) &\n",
    "        (x_exit > 3750901.5068) &\n",
    "        (y_exit > -19268905.6133) &\n",
    "        (y_exit < -19208905.6133)):\n",
    "        return 1\n",
    "    else:\n",
    "        return 0\n",
    "    \n",
    "def x_distance(x):\n",
    "    if (x > 3770901.5068):\n",
    "        return abs(x-3770901.5068)\n",
    "    elif (x < 3750901.5068):\n",
    "        return abs(x-3750901.5068)\n",
    "    else:\n",
    "        return 0\n",
    "    \n",
    "def y_distance(y):\n",
    "    if (abs(y) > 19268905.6133):\n",
    "        return abs(y)-19268905.6133\n",
    "    elif (abs(y) < 19208905.6133):\n",
    "        return abs(y)-19208905.6133\n",
    "    else:\n",
    "        return 0\n",
    "    \n",
    "def euclidian_distance(x, y, p=2):\n",
    "    return (x**p+y**p)**(1/p)\n",
    "\n",
    "cleaned_data = cleaning(pd.read_csv('data_train.csv').drop('Unnamed: 0', axis=1))\n",
    "\n",
    "cleaned_data['city_center'] = list(map(lambda x: targetEval(x[14], x[9], x[10]), cleaned_data.values))\n",
    "\n",
    "cleaned_data.dropna(inplace=True)\n",
    "cleaned_data = cleaned_data.reset_index(drop=True).copy()\n",
    "\n",
    "cleaned_data['x_distance'] = cleaned_data['y_entry'].apply(y_distance)\n",
    "cleaned_data['y_distance'] = cleaned_data['x_entry'].apply(x_distance)\n",
    "cleaned_data['euclidian_distance'] = euclidian_distance(cleaned_data['x_distance'], cleaned_data['y_distance'])\n",
    "\n",
    "# Selecting the variables\n",
    "df = cleaned_data[['vmax','vmin','vmean',\n",
    "#                    'x_entry','y_entry',\n",
    "                   'hours_entry','minutes_entry','seconds_entry',\n",
    "                   'x_distance','y_distance', \n",
    "                   'euclidian_distance']].copy()\n",
    "df_w_city_center = cleaned_data[['vmax','vmin','vmean',\n",
    "#                                  'x_entry','y_entry',\n",
    "                                 'hours_entry','minutes_entry','seconds_entry', \n",
    "                                 'x_distance','y_distance', \n",
    "                                 'euclidian_distance',\n",
    "                                 'city_center']].copy()\n",
    "# Removing outliers\n",
    "no_outliers = df[(np.abs(stats.zscore(df)) < 3).all(axis=1)].reset_index(drop=True)\n",
    "# Scaling and PCA\n",
    "ss = StandardScaler()\n",
    "pca = PCA(n_components='mle', random_state=0)\n",
    "# Separating variables\n",
    "X = df.iloc[no_outliers.index]\n",
    "y = df_w_city_center.iloc[no_outliers.index]['city_center']\n",
    "\n",
    "from collections import Counter\n",
    "print('Original dataset shape %s' % Counter(y))"
   ]
  },
  {
   "cell_type": "code",
   "execution_count": 75,
   "metadata": {},
   "outputs": [],
   "source": [
    "# # Oversampling\n",
    "# from imblearn.over_sampling import SMOTE\n",
    "# sm = SMOTE(random_state=0, n_jobs=-1)\n",
    "# X_res, y_res = sm.fit_resample(X, y)\n",
    "\n",
    "# má amostra\n",
    "# from collections import Counter\n",
    "# from imblearn.under_sampling import NearMiss\n",
    "# nm = NearMiss()\n",
    "# X_res, y_res = nm.fit_resample(X, y)\n",
    "# print('Resampled dataset shape %s' % Counter(y_res))\n",
    "\n",
    "# parece bão - mas não é\n",
    "# from collections import Counter\n",
    "# from imblearn.under_sampling import RepeatedEditedNearestNeighbours # doctest : +NORMALIZE_WHITESPACE\n",
    "# print('Original dataset shape %s' % Counter(y))\n",
    "# renn = RepeatedEditedNearestNeighbours()\n",
    "# X_res, y_res = renn.fit_resample(X, y)\n",
    "# print('Resampled dataset shape %s' % Counter(y_res))\n",
    "\n",
    "# muito cheio\n",
    "# from imblearn.under_sampling import AllKNN\n",
    "# print('Original dataset shape %s' % Counter(y))\n",
    "# allknn = AllKNN(random_state=0, n_jobs=-1)\n",
    "# X_res, y_res = allknn.fit_resample(X, y)\n",
    "# print('Resampled dataset shape %s' % Counter(y_res))\n",
    "\n",
    "# from imblearn.under_sampling import NeighbourhoodCleaningRule # doctest: +NORMALIZE_WHITESPACE\n",
    "# print('Original dataset shape %s' % Counter(y))\n",
    "# ncr = NeighbourhoodCleaningRule(n_jobs=-1, random_state=0, n_neighbors=5)\n",
    "# X_res, y_res = ncr.fit_resample(X, y)\n",
    "# print('Resampled dataset shape %s' % Counter(y_res))\n",
    "\n",
    "# cc = ClusterCentroids(estimator=model ,random_state=42, n_jobs=-1)\n",
    "# X_res, y_res = cc.fit_resample(X, y)\n",
    "# print('Resampled dataset shape %s' % Counter(y_res))\n",
    "\n",
    "# from imblearn.combine import SMOTEENN\n",
    "# from imblearn.over_sampling import SMOTE\n",
    "\n",
    "# smt = SMOTEENN(ratio='auto', smote=SMOTE(n_jobs=-1, random_state=420), random_state=420)\n",
    "# X_smt, y_smt = smt.fit_sample(X, y)"
   ]
  },
  {
   "cell_type": "code",
   "execution_count": 3,
   "metadata": {},
   "outputs": [],
   "source": [
    "X_smt = X\n",
    "y_smt = y"
   ]
  },
  {
   "cell_type": "code",
   "execution_count": 402,
   "metadata": {},
   "outputs": [
    {
     "name": "stdout",
     "output_type": "stream",
     "text": [
      "Resampled dataset shape Counter({0: 233031, 1: 8411})\n"
     ]
    }
   ],
   "source": [
    "print('Resampled dataset shape %s' % Counter(y_smt))"
   ]
  },
  {
   "cell_type": "code",
   "execution_count": 5,
   "metadata": {},
   "outputs": [
    {
     "name": "stderr",
     "output_type": "stream",
     "text": [
      "/usr/local/lib/python3.7/site-packages/sklearn/preprocessing/data.py:645: DataConversionWarning: Data with input dtype int64, float64 were all converted to float64 by StandardScaler.\n",
      "  return self.partial_fit(X, y)\n",
      "/usr/local/lib/python3.7/site-packages/sklearn/base.py:464: DataConversionWarning: Data with input dtype int64, float64 were all converted to float64 by StandardScaler.\n",
      "  return self.fit(X, **fit_params).transform(X)\n"
     ]
    }
   ],
   "source": [
    "# PCA and scaling\n",
    "# X_resampled = ss.fit_transform(pca.fit_transform(X_smt))\n",
    "# Just Scaling\n",
    "X_resampled = ss.fit_transform(X_smt)\n",
    "\n",
    "# Spliting\n",
    "X_train, X_test, y_train, y_test = train_test_split(X_resampled, y_smt, \n",
    "                                                    test_size=0.33,\n",
    "                                                    random_state=0)"
   ]
  },
  {
   "cell_type": "code",
   "execution_count": 6,
   "metadata": {},
   "outputs": [
    {
     "name": "stdout",
     "output_type": "stream",
     "text": [
      " 2 done!\n",
      " 3 done!\n",
      " 4 done!\n",
      " 5 done!\n",
      " 6 done!\n",
      " 7 done!\n"
     ]
    }
   ],
   "source": [
    "clustering = {}\n",
    "\n",
    "min_clu = 2\n",
    "max_clu = 8\n",
    "cluster_df = X_smt[['vmax', 'vmean', 'vmin', \n",
    "                    'hours_entry','minutes_entry','seconds_entry',\n",
    "                    'euclidian_distance']].copy()\n",
    "cluster_df['city_center'] = y_smt\n",
    "\n",
    "from sklearn.cluster import KMeans\n",
    "\n",
    "for x in range(min_clu, max_clu):\n",
    "    model = KMeans(n_clusters=x , n_jobs=-1, verbose=True, random_state=420)\n",
    "    results = model.fit_predict(cluster_df)\n",
    "    clustering[x] = [model, \n",
    "                     results, \n",
    "                     model.inertia_, \n",
    "                     model.cluster_centers_]\n",
    "    print(f\"\\r {x} done!\")\n",
    "    \n",
    "# from sklearn.metrics import silhouette_score\n",
    "# score_silhouette = []\n",
    "\n",
    "# for x in list(clustering.keys()):\n",
    "#     score_silhouette.append(silhouette_score(no_outliers, clustering[x][0].labels_))\n",
    "#     print(x, 'done!')\n",
    "\n",
    "# score_df['silhouette_score'] = score_silhouette\n",
    "# score_df.silhouette_score.plot(figsize=(12,8), xticks=range(2, 8)).grid()"
   ]
  },
  {
   "cell_type": "code",
   "execution_count": 8,
   "metadata": {},
   "outputs": [
    {
     "data": {
      "image/png": "[encoded data removed]",
      "text/plain": [
       "<Figure size 864x576 with 1 Axes>"
      ]
     },
     "metadata": {
      "needs_background": "light"
     },
     "output_type": "display_data"
    }
   ],
   "source": [
    "inertia = [(x, clustering[x][2]) for x in clustering.keys()]\n",
    "score_df = pd.DataFrame(inertia, columns=['n_clusters','inertia']).set_index('n_clusters')\n",
    "score_df.plot(figsize=(12,8), xticks=range(min_clu, max_clu)).grid()"
   ]
  },
  {
   "cell_type": "code",
   "execution_count": 324,
   "metadata": {},
   "outputs": [
    {
     "name": "stderr",
     "output_type": "stream",
     "text": [
      "[Parallel(n_jobs=-1)]: Using backend ThreadingBackend with 4 concurrent workers.\n",
      "[Parallel(n_jobs=-1)]: Done  42 tasks      | elapsed:    4.3s\n",
      "[Parallel(n_jobs=-1)]: Done 192 tasks      | elapsed:   18.8s\n",
      "[Parallel(n_jobs=-1)]: Done 442 tasks      | elapsed:   42.5s\n",
      "[Parallel(n_jobs=-1)]: Done 500 out of 500 | elapsed:   48.0s finished\n",
      "[Parallel(n_jobs=4)]: Using backend ThreadingBackend with 4 concurrent workers.\n",
      "[Parallel(n_jobs=4)]: Done  42 tasks      | elapsed:    0.1s\n",
      "[Parallel(n_jobs=4)]: Done 192 tasks      | elapsed:    0.6s\n",
      "[Parallel(n_jobs=4)]: Done 442 tasks      | elapsed:    1.4s\n",
      "[Parallel(n_jobs=4)]: Done 500 out of 500 | elapsed:    1.5s finished\n"
     ]
    },
    {
     "name": "stdout",
     "output_type": "stream",
     "text": [
      "0.8875333587495233\n"
     ]
    },
    {
     "name": "stderr",
     "output_type": "stream",
     "text": [
      "[Parallel(n_jobs=4)]: Using backend ThreadingBackend with 4 concurrent workers.\n",
      "[Parallel(n_jobs=4)]: Done  42 tasks      | elapsed:    0.1s\n",
      "[Parallel(n_jobs=4)]: Done 192 tasks      | elapsed:    0.6s\n",
      "[Parallel(n_jobs=4)]: Done 442 tasks      | elapsed:    1.4s\n",
      "[Parallel(n_jobs=4)]: Done 500 out of 500 | elapsed:    1.6s finished\n"
     ]
    },
    {
     "name": "stdout",
     "output_type": "stream",
     "text": [
      "tn: 76758 fp: 198 fn: 392 tp: 2328\n"
     ]
    }
   ],
   "source": [
    "from sklearn.ensemble import RandomForestClassifier\n",
    "\n",
    "ensemble_clf = RandomForestClassifier(n_estimators=500,verbose=True, n_jobs=-1, random_state=0, class_weight='balanced')\n",
    "ensemble_clf.fit(X_train, y_train.ravel())\n",
    "print(f1_score(y_test, ensemble_clf.predict(X_test)))\n",
    "tn, fp, fn, tp = confusion_matrix(y_test, ensemble_clf.predict(X_test)).ravel()\n",
    "print('tn:', tn,'fp:', fp,'fn:', fn,'tp:', tp)"
   ]
  },
  {
   "cell_type": "code",
   "execution_count": 336,
   "metadata": {},
   "outputs": [
    {
     "name": "stdout",
     "output_type": "stream",
     "text": [
      "0.8898831717623663\n",
      "tn: 58128 fp: 154 fn: 289 tp: 1790\n"
     ]
    }
   ],
   "source": [
    "from sklearn.ensemble import GradientBoostingClassifier\n",
    "\n",
    "gbc = GradientBoostingClassifier(n_estimators=350, learning_rate=0.01, random_state=0).fit(X_train, y_train)\n",
    "print(f1_score(y_test, gbc.predict(X_test)))\n",
    "tn, fp, fn, tp = confusion_matrix(y_test, gbc.predict(X_test)).ravel()\n",
    "print('tn:', tn,'fp:', fp,'fn:', fn,'tp:', tp)"
   ]
  },
  {
   "cell_type": "code",
   "execution_count": 21,
   "metadata": {
    "scrolled": true
   },
   "outputs": [
    {
     "name": "stdout",
     "output_type": "stream",
     "text": [
      "0.891593761886649\n",
      "tn: 76762 fp: 194 fn: 376 tp: 2344\n"
     ]
    }
   ],
   "source": [
    "from xgboost import XGBClassifier\n",
    "\n",
    "xgb_clf = XGBClassifier(max_depth=3, learning_rate=0.1, n_estimators=150, verbosity=1, silent=0, \n",
    "                        objective='binary:logistic', booster='gbtree', n_jobs=-1, gamma=5,\n",
    "                        min_child_weight=1, max_delta_step=0, subsample=1, colsample_bytree=1, \n",
    "                        colsample_bylevel=1, colsample_bynode=1, reg_alpha=0.01, reg_lambda=0.01, \n",
    "                        scale_pos_weight=1, base_score=0.5, random_state=0, missing=None)\n",
    "\n",
    "eval_set = [(X_train, y_train), (X_test, y_test)]\n",
    "eval_metric = [\"aucpr\",\"error\"]\n",
    "xgb_clf.fit(X_train, y_train, eval_metric=eval_metric, eval_set=eval_set, verbose=0)\n",
    "# xgb_clf.fit(X_train, y_train)\n",
    "print(f1_score(y_test, xgb_clf.predict(X_test)))\n",
    "tn, fp, fn, tp = confusion_matrix(y_test, xgb_clf.predict(X_test)).ravel()\n",
    "print('tn:', tn,'fp:', fp,'fn:', fn,'tp:', tp)"
   ]
  },
  {
   "cell_type": "code",
   "execution_count": 23,
   "metadata": {},
   "outputs": [
    {
     "data": {
      "text/plain": [
       "<matplotlib.axes._subplots.AxesSubplot at 0x12646a748>"
      ]
     },
     "execution_count": 23,
     "metadata": {},
     "output_type": "execute_result"
    },
    {
     "data": {
      "image/png": "[encoded data removed]",
      "text/plain": [
       "<Figure size 1152x576 with 1 Axes>"
      ]
     },
     "metadata": {
      "needs_background": "light"
     },
     "output_type": "display_data"
    }
   ],
   "source": [
    "val_res = pd.DataFrame(xgb_clf.evals_result_['validation_0'])\n",
    "val_res['n_estimators'] = list(range(len(val_res)))\n",
    "val_res.plot(x='n_estimators', y='aucpr', figsize=(16,8))"
   ]
  },
  {
   "cell_type": "code",
   "execution_count": 330,
   "metadata": {},
   "outputs": [
    {
     "name": "stdout",
     "output_type": "stream",
     "text": [
      "0.8399600399600399\n",
      "tn: 76773 fp: 183 fn: 618 tp: 2102\n"
     ]
    }
   ],
   "source": [
    "from sklearn.neighbors import KNeighborsClassifier\n",
    "neigh = KNeighborsClassifier(n_neighbors=12, n_jobs=-1)\n",
    "neigh.fit(X_train, y_train)\n",
    "print(f1_score(y_test, neigh.predict(X_test)))\n",
    "tn, fp, fn, tp = confusion_matrix(y_test, neigh.predict(X_test)).ravel()\n",
    "print('tn:', tn,'fp:', fp,'fn:', fn,'tp:', tp)"
   ]
  },
  {
   "cell_type": "code",
   "execution_count": 331,
   "metadata": {},
   "outputs": [
    {
     "name": "stdout",
     "output_type": "stream",
     "text": [
      "[LibSVM]"
     ]
    },
    {
     "name": "stderr",
     "output_type": "stream",
     "text": [
      "/usr/local/lib/python3.7/site-packages/sklearn/svm/base.py:196: FutureWarning: The default value of gamma will change from 'auto' to 'scale' in version 0.22 to account better for unscaled features. Set gamma explicitly to 'auto' or 'scale' to avoid this warning.\n",
      "  \"avoid this warning.\", FutureWarning)\n"
     ]
    },
    {
     "name": "stdout",
     "output_type": "stream",
     "text": [
      "0.8565005620082428\n",
      "tn: 76624 fp: 332 fn: 434 tp: 2286\n"
     ]
    }
   ],
   "source": [
    "from sklearn.svm import SVC\n",
    "\n",
    "clf = SVC(random_state=420, C=0.06, verbose=True)\n",
    "clf.fit(X_train, y_train.ravel())\n",
    "print(f1_score(y_test, clf.predict(X_test)))\n",
    "tn, fp, fn, tp = confusion_matrix(y_test, clf.predict(X_test)).ravel()\n",
    "print('tn:', tn,'fp:', fp,'fn:', fn,'tp:', tp)"
   ]
  },
  {
   "cell_type": "code",
   "execution_count": 409,
   "metadata": {},
   "outputs": [
    {
     "data": {
      "text/plain": [
       "<matplotlib.axes._subplots.AxesSubplot at 0x386405128>"
      ]
     },
     "execution_count": 409,
     "metadata": {},
     "output_type": "execute_result"
    },
    {
     "data": {
      "image/png": "[encoded data removed]",
      "text/plain": [
       "<Figure size 1152x1152 with 2 Axes>"
      ]
     },
     "metadata": {
      "needs_background": "light"
     },
     "output_type": "display_data"
    }
   ],
   "source": [
    "df_w_city_center[['x_distance', \n",
    "                  'y_distance', \n",
    "                  'city_center']][df_w_city_center['city_center']==1].plot.scatter(x='x_distance',\n",
    "                                                                                   y='y_distance',\n",
    "                                                                                   c='city_center',\n",
    "                                                                                   figsize=(16,16),\n",
    "                                                                                   colormap='viridis')\n"
   ]
  },
  {
   "cell_type": "code",
   "execution_count": 410,
   "metadata": {
    "scrolled": false
   },
   "outputs": [
    {
     "data": {
      "text/plain": [
       "<matplotlib.axes._subplots.AxesSubplot at 0x3817eb828>"
      ]
     },
     "execution_count": 410,
     "metadata": {},
     "output_type": "execute_result"
    },
    {
     "data": {
      "image/png": "[encoded data removed]",
      "text/plain": [
       "<Figure size 1152x1152 with 2 Axes>"
      ]
     },
     "metadata": {
      "needs_background": "light"
     },
     "output_type": "display_data"
    }
   ],
   "source": [
    "# # import pandas_profiling\n",
    "\n",
    "# # pandas_profiling.ProfileReport(df_w_city_center)\n",
    "\n",
    "aa = pd.DataFrame(X_smt, columns = ['vmax','vmin','vmean', \n",
    "                                    'x_entry','y_entry', \n",
    "                                    'hours_entry','minutes_entry','seconds_entry', \n",
    "                                    'x_distance','y_distance', \n",
    "                                    'euclidian_distance'])\n",
    "\n",
    "aa['city_center'] = y_smt\n",
    "aa['cluster_predict_4'] = clustering[5][1]\n",
    "\n",
    "aa[['x_distance', 'y_distance', \n",
    "    'cluster_predict_4', 'city_center']][(aa['city_center']==1)].plot.scatter(x = 'x_distance',\n",
    "                                                                            y = 'y_distance',\n",
    "                                                                            c = 'city_center', \n",
    "                                                                            colormap = 'viridis',\n",
    "                                                                            figsize = (16,16))"
   ]
  },
  {
   "cell_type": "code",
   "execution_count": 24,
   "metadata": {},
   "outputs": [],
   "source": [
    "# aa[['euclidian_distance', 'cluster_predict_4']].plot.hist(x='euclidian_distance', y='cluster_predict_4')"
   ]
  },
  {
   "cell_type": "code",
   "execution_count": 296,
   "metadata": {
    "scrolled": true
   },
   "outputs": [
    {
     "name": "stderr",
     "output_type": "stream",
     "text": [
      "/usr/local/lib/python3.7/site-packages/ipykernel_launcher.py:13: DataConversionWarning: Data with input dtype int64, float64 were all converted to float64 by StandardScaler.\n",
      "  del sys.path[0]\n"
     ]
    }
   ],
   "source": [
    "test_data = pd.read_csv('data_test.csv').drop('Unnamed: 0', axis=1)\n",
    "\n",
    "test_data = test_data[np.isnan(test_data['x_exit'])].copy()\n",
    "test_data = cleaning(test_data).fillna(0).copy()\n",
    "test_data['x_distance'] = test_data['y_entry'].apply(y_distance)\n",
    "test_data['y_distance'] = test_data['x_entry'].apply(x_distance)\n",
    "test_data['euclidian_distance'] = euclidian_distance(test_data['x_distance'], test_data['y_distance'])\n",
    "\n",
    "test_data['target'] = xgb_clf.predict(ss.transform(test_data[['vmax','vmin','vmean',\n",
    "                                                                                 'x_entry','y_entry',\n",
    "                                                                          'hours_entry','minutes_entry','seconds_entry',\n",
    "                                                                         'x_distance','y_distance', \n",
    "                                                                         'euclidian_distance']]))\n",
    "submission = test_data[['trajectory_id','target']].copy()\n",
    "submission['id'] = test_data['trajectory_id']\n",
    "submission = submission[['id', 'target']].copy()\n",
    "submission.to_csv('firsttry.csv', index=False)"
   ]
  },
  {
   "cell_type": "code",
   "execution_count": 3,
   "metadata": {
    "scrolled": true
   },
   "outputs": [],
   "source": [
    "# pca_plot = PCA(n_components=2, random_state=0)\n",
    "# data_to_plot = pca_plot.fit_transform(df.iloc[no_outliers.index])\n",
    "# pcadataplot = pd.DataFrame(data_to_plot, columns=['x','y'])\n",
    "# pcadataplot['target'] = df_w_city_center.iloc[no_outliers.index].city_center.apply(bool)\n",
    "# pcadataplot.plot(x='x', y='y', c=pcadataplot.target, colorbar=True, kind='scatter', figsize=(16,16))"
   ]
  },
  {
   "cell_type": "code",
   "execution_count": 332,
   "metadata": {},
   "outputs": [
    {
     "name": "stdout",
     "output_type": "stream",
     "text": [
      "_________________________________________________________________\n",
      "Layer (type)                 Output Shape              Param #   \n",
      "=================================================================\n",
      "dense_7 (Dense)              (None, 32)                384       \n",
      "_________________________________________________________________\n",
      "dense_8 (Dense)              (None, 1)                 33        \n",
      "=================================================================\n",
      "Total params: 417\n",
      "Trainable params: 417\n",
      "Non-trainable params: 0\n",
      "_________________________________________________________________\n"
     ]
    }
   ],
   "source": [
    "from keras.models import Sequential\n",
    "from keras.layers.core import Dense, Dropout, Activation\n",
    "from keras.optimizers import SGD\n",
    "from keras.utils import np_utils\n",
    "from keras import backend as K\n",
    "import tensorflow as tf\n",
    "\n",
    "def recall_metric(y_true, y_pred):\n",
    "    \"\"\"Recall metric.\n",
    "\n",
    "    Only computes a batch-wise average of recall.\n",
    "\n",
    "    Computes the recall, a metric for multi-label classification of\n",
    "    how many relevant items are selected.\n",
    "    \"\"\"\n",
    "    true_positives = K.sum(K.round(K.clip(y_true * y_pred, 0, 1)))\n",
    "    possible_positives = K.sum(K.round(K.clip(y_true, 0, 1)))\n",
    "    recall = true_positives / (possible_positives + K.epsilon())\n",
    "    return recall\n",
    "\n",
    "def precision_metric(y_true, y_pred):\n",
    "    \"\"\"Precision metric.\n",
    "\n",
    "    Only computes a batch-wise average of precision.\n",
    "\n",
    "    Computes the precision, a metric for multi-label classification of\n",
    "    how many selected items are relevant.\n",
    "    \"\"\"\n",
    "    true_positives = K.sum(K.round(K.clip(y_true * y_pred, 0, 1)))\n",
    "    predicted_positives = K.sum(K.round(K.clip(y_pred, 0, 1)))\n",
    "    precision = true_positives / (predicted_positives + K.epsilon())\n",
    "    return precision\n",
    "\n",
    "def f1_metric(y_true, y_pred):\n",
    "    \n",
    "    precision = precision_metric(y_true, y_pred)\n",
    "    recall = recall_metric(y_true, y_pred)\n",
    "    return 2*((precision*recall)/(precision+recall+K.epsilon()))\n",
    "\n",
    "def f1_loss(y_true, y_pred):\n",
    "    \n",
    "    tp = K.sum(K.cast(y_true*y_pred, 'float'), axis=0)\n",
    "    tn = K.sum(K.cast((1-y_true)*(1-y_pred), 'float'), axis=0)\n",
    "    fp = K.sum(K.cast((1-y_true)*y_pred, 'float'), axis=0)\n",
    "    fn = K.sum(K.cast(y_true*(1-y_pred), 'float'), axis=0)\n",
    "\n",
    "    p = tp / (tp + fp + K.epsilon())\n",
    "    r = tp / (tp + fn + K.epsilon())\n",
    "\n",
    "    f1 = 2*p*r / (p+r+K.epsilon())\n",
    "    f1 = tf.where(tf.is_nan(f1), tf.zeros_like(f1), f1)\n",
    "    return 1 - K.mean(f1)\n",
    "\n",
    "# Building the model\n",
    "mlp_model = Sequential()\n",
    "mlp_model.add(Dense(6, activation='relu', input_shape=(11,)))\n",
    "mlp_model.add(Dense(1, activation='softmax'))\n",
    "\n",
    "# Compiling the model\n",
    "mlp_model.compile(loss = f1_loss, optimizer='rmsprop', metrics=[precision_metric, recall_metric, f1_metric])\n",
    "mlp_model.summary()"
   ]
  },
  {
   "cell_type": "code",
   "execution_count": 333,
   "metadata": {
    "scrolled": true
   },
   "outputs": [
    {
     "name": "stdout",
     "output_type": "stream",
     "text": [
      "Epoch 1/100\n",
      "161766/161766 [==============================] - 8s 46us/step - loss: 0.9339 - precision_metric: 0.0352 - recall_metric: 0.6809 - f1_metric: 0.0661\n",
      "Epoch 2/100\n",
      "161766/161766 [==============================] - 7s 42us/step - loss: 0.9339 - precision_metric: 0.0352 - recall_metric: 0.6783 - f1_metric: 0.0661\n",
      "Epoch 3/100\n",
      "161766/161766 [==============================] - 7s 42us/step - loss: 0.9339 - precision_metric: 0.0352 - recall_metric: 0.6815 - f1_metric: 0.0661\n",
      "Epoch 4/100\n",
      "161766/161766 [==============================] - 7s 42us/step - loss: 0.9339 - precision_metric: 0.0352 - recall_metric: 0.6831 - f1_metric: 0.0661\n",
      "Epoch 5/100\n",
      "161766/161766 [==============================] - 7s 42us/step - loss: 0.9339 - precision_metric: 0.0352 - recall_metric: 0.6856 - f1_metric: 0.0661\n",
      "Epoch 6/100\n",
      "161766/161766 [==============================] - 7s 42us/step - loss: 0.9339 - precision_metric: 0.0352 - recall_metric: 0.6850 - f1_metric: 0.0661\n",
      "Epoch 7/100\n",
      "161766/161766 [==============================] - 7s 43us/step - loss: 0.9339 - precision_metric: 0.0352 - recall_metric: 0.6809 - f1_metric: 0.0661\n",
      "Epoch 8/100\n",
      "161766/161766 [==============================] - 7s 44us/step - loss: 0.9339 - precision_metric: 0.0352 - recall_metric: 0.6793 - f1_metric: 0.0661\n",
      "Epoch 9/100\n",
      "161766/161766 [==============================] - 7s 43us/step - loss: 0.9339 - precision_metric: 0.0352 - recall_metric: 0.6807 - f1_metric: 0.0661\n",
      "Epoch 10/100\n",
      "161766/161766 [==============================] - 7s 42us/step - loss: 0.9339 - precision_metric: 0.0352 - recall_metric: 0.6827 - f1_metric: 0.0661\n",
      "Epoch 11/100\n",
      "161766/161766 [==============================] - 7s 43us/step - loss: 0.9339 - precision_metric: 0.0352 - recall_metric: 0.6837 - f1_metric: 0.0661\n",
      "Epoch 12/100\n",
      "161766/161766 [==============================] - 7s 42us/step - loss: 0.9339 - precision_metric: 0.0352 - recall_metric: 0.6817 - f1_metric: 0.0661\n",
      "Epoch 13/100\n",
      "161766/161766 [==============================] - 7s 42us/step - loss: 0.9339 - precision_metric: 0.0352 - recall_metric: 0.6769 - f1_metric: 0.0661\n",
      "Epoch 14/100\n",
      "161766/161766 [==============================] - 7s 43us/step - loss: 0.9339 - precision_metric: 0.0352 - recall_metric: 0.6841 - f1_metric: 0.0661\n",
      "Epoch 15/100\n",
      "161766/161766 [==============================] - 7s 42us/step - loss: 0.9339 - precision_metric: 0.0352 - recall_metric: 0.6803 - f1_metric: 0.0661\n",
      "Epoch 16/100\n",
      "161766/161766 [==============================] - 7s 42us/step - loss: 0.9339 - precision_metric: 0.0352 - recall_metric: 0.6787 - f1_metric: 0.0661\n",
      "Epoch 17/100\n",
      "161766/161766 [==============================] - 7s 43us/step - loss: 0.9339 - precision_metric: 0.0352 - recall_metric: 0.6819 - f1_metric: 0.0661\n",
      "Epoch 18/100\n",
      "161766/161766 [==============================] - 7s 41us/step - loss: 0.9339 - precision_metric: 0.0352 - recall_metric: 0.6827 - f1_metric: 0.0661\n",
      "Epoch 19/100\n",
      "161766/161766 [==============================] - 7s 42us/step - loss: 0.9339 - precision_metric: 0.0352 - recall_metric: 0.6844 - f1_metric: 0.0661\n",
      "Epoch 20/100\n",
      "161766/161766 [==============================] - 7s 42us/step - loss: 0.9339 - precision_metric: 0.0352 - recall_metric: 0.6890 - f1_metric: 0.0661\n",
      "Epoch 21/100\n",
      "161766/161766 [==============================] - 7s 42us/step - loss: 0.9338 - precision_metric: 0.0352 - recall_metric: 0.6852 - f1_metric: 0.0662\n",
      "Epoch 22/100\n",
      "161766/161766 [==============================] - 7s 43us/step - loss: 0.9339 - precision_metric: 0.0352 - recall_metric: 0.6849 - f1_metric: 0.0661\n",
      "Epoch 23/100\n",
      "161766/161766 [==============================] - 7s 42us/step - loss: 0.9339 - precision_metric: 0.0352 - recall_metric: 0.6807 - f1_metric: 0.0661\n",
      "Epoch 24/100\n",
      "161766/161766 [==============================] - 7s 43us/step - loss: 0.9339 - precision_metric: 0.0352 - recall_metric: 0.6801 - f1_metric: 0.0661\n",
      "Epoch 25/100\n",
      "161766/161766 [==============================] - 7s 42us/step - loss: 0.9339 - precision_metric: 0.0352 - recall_metric: 0.6755 - f1_metric: 0.0661\n",
      "Epoch 26/100\n",
      "161766/161766 [==============================] - 7s 44us/step - loss: 0.9339 - precision_metric: 0.0352 - recall_metric: 0.6874 - f1_metric: 0.0661\n",
      "Epoch 27/100\n",
      "161766/161766 [==============================] - 7s 43us/step - loss: 0.9339 - precision_metric: 0.0352 - recall_metric: 0.6829 - f1_metric: 0.0661\n",
      "Epoch 28/100\n",
      "161766/161766 [==============================] - 7s 43us/step - loss: 0.9339 - precision_metric: 0.0352 - recall_metric: 0.6797 - f1_metric: 0.0661\n",
      "Epoch 29/100\n",
      "161766/161766 [==============================] - 7s 43us/step - loss: 0.9339 - precision_metric: 0.0352 - recall_metric: 0.6854 - f1_metric: 0.0661\n",
      "Epoch 30/100\n",
      "161766/161766 [==============================] - 7s 43us/step - loss: 0.9339 - precision_metric: 0.0352 - recall_metric: 0.6805 - f1_metric: 0.0661\n",
      "Epoch 31/100\n",
      "161766/161766 [==============================] - 7s 42us/step - loss: 0.9339 - precision_metric: 0.0352 - recall_metric: 0.6835 - f1_metric: 0.0661\n",
      "Epoch 32/100\n",
      "161766/161766 [==============================] - 7s 44us/step - loss: 0.9339 - precision_metric: 0.0352 - recall_metric: 0.6890 - f1_metric: 0.0661\n",
      "Epoch 33/100\n",
      "161766/161766 [==============================] - ETA: 0s - loss: 0.9339 - precision_metric: 0.0352 - recall_metric: 0.6835 - f1_metric: 0.06 - 7s 43us/step - loss: 0.9339 - precision_metric: 0.0352 - recall_metric: 0.6841 - f1_metric: 0.0661\n",
      "Epoch 34/100\n",
      "161766/161766 [==============================] - 7s 42us/step - loss: 0.9339 - precision_metric: 0.0352 - recall_metric: 0.6833 - f1_metric: 0.0661\n",
      "Epoch 35/100\n",
      "161766/161766 [==============================] - 7s 46us/step - loss: 0.9339 - precision_metric: 0.0352 - recall_metric: 0.6825 - f1_metric: 0.0661\n",
      "Epoch 36/100\n",
      "161766/161766 [==============================] - 7s 43us/step - loss: 0.9339 - precision_metric: 0.0352 - recall_metric: 0.6884 - f1_metric: 0.0661\n",
      "Epoch 37/100\n",
      "161766/161766 [==============================] - 7s 43us/step - loss: 0.9339 - precision_metric: 0.0352 - recall_metric: 0.6746 - f1_metric: 0.0661\n",
      "Epoch 38/100\n",
      "161766/161766 [==============================] - 7s 42us/step - loss: 0.9339 - precision_metric: 0.0352 - recall_metric: 0.6803 - f1_metric: 0.0661\n",
      "Epoch 39/100\n",
      "161766/161766 [==============================] - 8s 47us/step - loss: 0.9339 - precision_metric: 0.0352 - recall_metric: 0.6829 - f1_metric: 0.0661\n",
      "Epoch 40/100\n",
      "161766/161766 [==============================] - 7s 43us/step - loss: 0.9339 - precision_metric: 0.0352 - recall_metric: 0.6854 - f1_metric: 0.0661\n",
      "Epoch 41/100\n",
      "161766/161766 [==============================] - 7s 42us/step - loss: 0.9339 - precision_metric: 0.0352 - recall_metric: 0.6795 - f1_metric: 0.0661\n",
      "Epoch 42/100\n",
      "161766/161766 [==============================] - 7s 43us/step - loss: 0.9339 - precision_metric: 0.0352 - recall_metric: 0.6784 - f1_metric: 0.0661\n",
      "Epoch 43/100\n",
      "161766/161766 [==============================] - 7s 44us/step - loss: 0.9339 - precision_metric: 0.0352 - recall_metric: 0.6845 - f1_metric: 0.0661\n",
      "Epoch 44/100\n",
      "161766/161766 [==============================] - 7s 43us/step - loss: 0.9338 - precision_metric: 0.0352 - recall_metric: 0.6880 - f1_metric: 0.0662\n",
      "Epoch 45/100\n",
      "161766/161766 [==============================] - 7s 42us/step - loss: 0.9339 - precision_metric: 0.0352 - recall_metric: 0.6884 - f1_metric: 0.0661\n",
      "Epoch 46/100\n",
      "161766/161766 [==============================] - 6s 40us/step - loss: 0.9339 - precision_metric: 0.0352 - recall_metric: 0.6842 - f1_metric: 0.0661\n",
      "Epoch 47/100\n",
      "161766/161766 [==============================] - 6s 39us/step - loss: 0.9338 - precision_metric: 0.0352 - recall_metric: 0.6916 - f1_metric: 0.0662\n",
      "Epoch 48/100\n",
      "161766/161766 [==============================] - 6s 39us/step - loss: 0.9339 - precision_metric: 0.0352 - recall_metric: 0.6791 - f1_metric: 0.0661\n",
      "Epoch 49/100\n",
      "161766/161766 [==============================] - 7s 41us/step - loss: 0.9339 - precision_metric: 0.0352 - recall_metric: 0.6791 - f1_metric: 0.0661\n",
      "Epoch 50/100\n",
      "161766/161766 [==============================] - 7s 42us/step - loss: 0.9339 - precision_metric: 0.0352 - recall_metric: 0.6827 - f1_metric: 0.0661\n",
      "Epoch 51/100\n",
      "161766/161766 [==============================] - 6s 40us/step - loss: 0.9339 - precision_metric: 0.0352 - recall_metric: 0.6856 - f1_metric: 0.0661\n",
      "Epoch 52/100\n",
      "161766/161766 [==============================] - 7s 40us/step - loss: 0.9339 - precision_metric: 0.0352 - recall_metric: 0.6793 - f1_metric: 0.0661\n",
      "Epoch 53/100\n",
      "161766/161766 [==============================] - 6s 39us/step - loss: 0.9339 - precision_metric: 0.0352 - recall_metric: 0.6848 - f1_metric: 0.0661\n",
      "Epoch 54/100\n",
      "161766/161766 [==============================] - 6s 40us/step - loss: 0.9339 - precision_metric: 0.0352 - recall_metric: 0.6829 - f1_metric: 0.0661\n",
      "Epoch 55/100\n",
      "161766/161766 [==============================] - 6s 40us/step - loss: 0.9339 - precision_metric: 0.0352 - recall_metric: 0.6831 - f1_metric: 0.0661\n",
      "Epoch 56/100\n",
      "161766/161766 [==============================] - 6s 39us/step - loss: 0.9340 - precision_metric: 0.0352 - recall_metric: 0.6726 - f1_metric: 0.0660\n",
      "Epoch 57/100\n",
      "161766/161766 [==============================] - 6s 40us/step - loss: 0.9339 - precision_metric: 0.0352 - recall_metric: 0.6817 - f1_metric: 0.0661\n",
      "Epoch 58/100\n",
      "161766/161766 [==============================] - 6s 40us/step - loss: 0.9339 - precision_metric: 0.0352 - recall_metric: 0.6797 - f1_metric: 0.0661\n",
      "Epoch 59/100\n",
      "161766/161766 [==============================] - 6s 40us/step - loss: 0.9339 - precision_metric: 0.0352 - recall_metric: 0.6833 - f1_metric: 0.0661\n",
      "Epoch 60/100\n",
      "161766/161766 [==============================] - 6s 40us/step - loss: 0.9338 - precision_metric: 0.0352 - recall_metric: 0.6878 - f1_metric: 0.0662\n",
      "Epoch 61/100\n",
      "161766/161766 [==============================] - 7s 42us/step - loss: 0.9339 - precision_metric: 0.0352 - recall_metric: 0.6813 - f1_metric: 0.0661\n",
      "Epoch 62/100\n",
      "161766/161766 [==============================] - 6s 40us/step - loss: 0.9339 - precision_metric: 0.0352 - recall_metric: 0.6799 - f1_metric: 0.0661\n",
      "Epoch 63/100\n",
      "161766/161766 [==============================] - 6s 40us/step - loss: 0.9339 - precision_metric: 0.0352 - recall_metric: 0.6815 - f1_metric: 0.0661\n",
      "Epoch 64/100\n",
      "161766/161766 [==============================] - 6s 39us/step - loss: 0.9338 - precision_metric: 0.0352 - recall_metric: 0.6928 - f1_metric: 0.0662\n",
      "Epoch 65/100\n",
      "161766/161766 [==============================] - 6s 40us/step - loss: 0.9339 - precision_metric: 0.0352 - recall_metric: 0.6862 - f1_metric: 0.0661\n",
      "Epoch 66/100\n",
      "161766/161766 [==============================] - 6s 39us/step - loss: 0.9339 - precision_metric: 0.0352 - recall_metric: 0.6886 - f1_metric: 0.0661\n",
      "Epoch 67/100\n",
      "161766/161766 [==============================] - 6s 40us/step - loss: 0.9339 - precision_metric: 0.0352 - recall_metric: 0.6799 - f1_metric: 0.0661\n",
      "Epoch 68/100\n",
      "161766/161766 [==============================] - 6s 40us/step - loss: 0.9338 - precision_metric: 0.0352 - recall_metric: 0.6906 - f1_metric: 0.0662\n",
      "Epoch 69/100\n",
      "161766/161766 [==============================] - 6s 39us/step - loss: 0.9339 - precision_metric: 0.0352 - recall_metric: 0.6841 - f1_metric: 0.0661\n",
      "Epoch 70/100\n",
      "161766/161766 [==============================] - 6s 39us/step - loss: 0.9339 - precision_metric: 0.0352 - recall_metric: 0.6801 - f1_metric: 0.0661\n",
      "Epoch 71/100\n",
      "161766/161766 [==============================] - 6s 40us/step - loss: 0.9339 - precision_metric: 0.0352 - recall_metric: 0.6825 - f1_metric: 0.0661\n",
      "Epoch 72/100\n",
      "161766/161766 [==============================] - 6s 39us/step - loss: 0.9339 - precision_metric: 0.0352 - recall_metric: 0.6852 - f1_metric: 0.0661\n",
      "Epoch 73/100\n",
      "161766/161766 [==============================] - 6s 40us/step - loss: 0.9339 - precision_metric: 0.0352 - recall_metric: 0.6864 - f1_metric: 0.0661\n",
      "Epoch 74/100\n",
      "161766/161766 [==============================] - 6s 39us/step - loss: 0.9339 - precision_metric: 0.0352 - recall_metric: 0.6779 - f1_metric: 0.0661\n",
      "Epoch 75/100\n",
      "161766/161766 [==============================] - 6s 39us/step - loss: 0.9339 - precision_metric: 0.0352 - recall_metric: 0.6819 - f1_metric: 0.0661\n",
      "Epoch 76/100\n",
      "161766/161766 [==============================] - 6s 39us/step - loss: 0.9339 - precision_metric: 0.0352 - recall_metric: 0.6773 - f1_metric: 0.0661\n",
      "Epoch 77/100\n",
      "161766/161766 [==============================] - 7s 41us/step - loss: 0.9339 - precision_metric: 0.0352 - recall_metric: 0.6765 - f1_metric: 0.0661\n",
      "Epoch 78/100\n",
      "161766/161766 [==============================] - 6s 40us/step - loss: 0.9338 - precision_metric: 0.0352 - recall_metric: 0.6933 - f1_metric: 0.0662\n",
      "Epoch 79/100\n",
      "161766/161766 [==============================] - 6s 40us/step - loss: 0.9339 - precision_metric: 0.0352 - recall_metric: 0.6874 - f1_metric: 0.0661\n",
      "Epoch 80/100\n",
      "161766/161766 [==============================] - 7s 41us/step - loss: 0.9338 - precision_metric: 0.0352 - recall_metric: 0.6882 - f1_metric: 0.0662\n",
      "Epoch 81/100\n",
      "161766/161766 [==============================] - 6s 40us/step - loss: 0.9339 - precision_metric: 0.0352 - recall_metric: 0.6783 - f1_metric: 0.0661\n",
      "Epoch 82/100\n",
      "161766/161766 [==============================] - 6s 39us/step - loss: 0.9339 - precision_metric: 0.0352 - recall_metric: 0.6744 - f1_metric: 0.0661\n",
      "Epoch 83/100\n",
      "161766/161766 [==============================] - 6s 39us/step - loss: 0.9338 - precision_metric: 0.0352 - recall_metric: 0.6870 - f1_metric: 0.0662\n",
      "Epoch 84/100\n",
      "161766/161766 [==============================] - 6s 40us/step - loss: 0.9339 - precision_metric: 0.0352 - recall_metric: 0.6837 - f1_metric: 0.0661\n",
      "Epoch 85/100\n",
      "161766/161766 [==============================] - 6s 40us/step - loss: 0.9339 - precision_metric: 0.0352 - recall_metric: 0.6837 - f1_metric: 0.0661\n",
      "Epoch 86/100\n",
      "161766/161766 [==============================] - 6s 39us/step - loss: 0.9339 - precision_metric: 0.0352 - recall_metric: 0.6849 - f1_metric: 0.0661\n",
      "Epoch 87/100\n",
      "161766/161766 [==============================] - 6s 39us/step - loss: 0.9339 - precision_metric: 0.0352 - recall_metric: 0.6862 - f1_metric: 0.0661\n",
      "Epoch 88/100\n",
      "161766/161766 [==============================] - 6s 39us/step - loss: 0.9339 - precision_metric: 0.0352 - recall_metric: 0.6854 - f1_metric: 0.0661\n",
      "Epoch 89/100\n",
      "161766/161766 [==============================] - 6s 40us/step - loss: 0.9339 - precision_metric: 0.0352 - recall_metric: 0.6813 - f1_metric: 0.0661\n",
      "Epoch 90/100\n",
      "161766/161766 [==============================] - 6s 40us/step - loss: 0.9339 - precision_metric: 0.0352 - recall_metric: 0.6835 - f1_metric: 0.0661\n",
      "Epoch 91/100\n",
      "161766/161766 [==============================] - 6s 39us/step - loss: 0.9339 - precision_metric: 0.0352 - recall_metric: 0.6829 - f1_metric: 0.0661\n",
      "Epoch 92/100\n",
      "161766/161766 [==============================] - 6s 39us/step - loss: 0.9339 - precision_metric: 0.0352 - recall_metric: 0.6801 - f1_metric: 0.0661\n",
      "Epoch 93/100\n",
      "161766/161766 [==============================] - 6s 39us/step - loss: 0.9339 - precision_metric: 0.0352 - recall_metric: 0.6797 - f1_metric: 0.0661\n",
      "Epoch 94/100\n",
      "161766/161766 [==============================] - 6s 40us/step - loss: 0.9339 - precision_metric: 0.0352 - recall_metric: 0.6813 - f1_metric: 0.0661\n",
      "Epoch 95/100\n",
      "161766/161766 [==============================] - 6s 40us/step - loss: 0.9339 - precision_metric: 0.0352 - recall_metric: 0.6852 - f1_metric: 0.0661\n",
      "Epoch 96/100\n",
      "161766/161766 [==============================] - 6s 40us/step - loss: 0.9339 - precision_metric: 0.0352 - recall_metric: 0.6845 - f1_metric: 0.0661\n",
      "Epoch 97/100\n",
      "161766/161766 [==============================] - 6s 39us/step - loss: 0.9339 - precision_metric: 0.0352 - recall_metric: 0.6896 - f1_metric: 0.0661\n",
      "Epoch 98/100\n",
      "161766/161766 [==============================] - 6s 40us/step - loss: 0.9339 - precision_metric: 0.0352 - recall_metric: 0.6880 - f1_metric: 0.0661\n",
      "Epoch 99/100\n",
      "161766/161766 [==============================] - 7s 42us/step - loss: 0.9339 - precision_metric: 0.0352 - recall_metric: 0.6866 - f1_metric: 0.0661\n",
      "Epoch 100/100\n",
      "161766/161766 [==============================] - 6s 40us/step - loss: 0.9339 - precision_metric: 0.0352 - recall_metric: 0.6801 - f1_metric: 0.0661\n",
      "161766/161766 [==============================] - 3s 16us/step\n",
      "\n",
      " Training Accuracy: 0.03518044582934487\n"
     ]
    },
    {
     "name": "stdout",
     "output_type": "stream",
     "text": [
      "79676/79676 [==============================] - 1s 16us/step\n",
      "\n",
      " Testing Accuracy: 0.03413825995280888\n"
     ]
    }
   ],
   "source": [
    "# Training the model\n",
    "mlp_model.fit(X_train, y_train, epochs=100, verbose=True)\n",
    "# Evaluating the model on the training and testing set\n",
    "score = mlp_model.evaluate(X_train, y_train)\n",
    "print(\"\\n Training Accuracy:\", score[1])\n",
    "score = mlp_model.evaluate(X_test, y_test)\n",
    "print(\"\\n Testing Accuracy:\", score[1]) "
   ]
  },
  {
   "cell_type": "code",
   "execution_count": 171,
   "metadata": {},
   "outputs": [
    {
     "data": {
      "text/plain": [
       "0.6674737746829528"
      ]
     },
     "execution_count": 171,
     "metadata": {},
     "output_type": "execute_result"
    }
   ],
   "source": [
    "f1_score(y_test, mlp_model.predict(X_test))"
   ]
  },
  {
   "cell_type": "code",
   "execution_count": 37,
   "metadata": {},
   "outputs": [
    {
     "name": "stdout",
     "output_type": "stream",
     "text": [
      "Fitting 5 folds for each of 10368 candidates, totalling 51840 fits\n"
     ]
    },
    {
     "name": "stderr",
     "output_type": "stream",
     "text": [
      "[Parallel(n_jobs=-1)]: Using backend LokyBackend with 4 concurrent workers.\n",
      "[Parallel(n_jobs=-1)]: Done  42 tasks      | elapsed:  5.6min\n",
      "[Parallel(n_jobs=-1)]: Done 192 tasks      | elapsed: 60.0min\n",
      "[Parallel(n_jobs=-1)]: Done 442 tasks      | elapsed: 241.5min\n",
      "[Parallel(n_jobs=-1)]: Done 792 tasks      | elapsed: 468.2min\n",
      "[Parallel(n_jobs=-1)]: Done 1242 tasks      | elapsed: 615.7min\n",
      "[Parallel(n_jobs=-1)]: Done 1792 tasks      | elapsed: 781.1min\n",
      "[Parallel(n_jobs=-1)]: Done 2442 tasks      | elapsed: 993.3min\n"
     ]
    },
    {
     "ename": "KeyboardInterrupt",
     "evalue": "",
     "output_type": "error",
     "traceback": [
      "\u001b[0;31m---------------------------------------------------------------------------\u001b[0m",
      "\u001b[0;31mKeyboardInterrupt\u001b[0m                         Traceback (most recent call last)",
      "\u001b[0;32m/usr/local/lib/python3.7/site-packages/sklearn/externals/joblib/parallel.py\u001b[0m in \u001b[0;36mretrieve\u001b[0;34m(self)\u001b[0m\n\u001b[1;32m    832\u001b[0m                 \u001b[0;32mif\u001b[0m \u001b[0mgetattr\u001b[0m\u001b[0;34m(\u001b[0m\u001b[0mself\u001b[0m\u001b[0;34m.\u001b[0m\u001b[0m_backend\u001b[0m\u001b[0;34m,\u001b[0m \u001b[0;34m'supports_timeout'\u001b[0m\u001b[0;34m,\u001b[0m \u001b[0;32mFalse\u001b[0m\u001b[0;34m)\u001b[0m\u001b[0;34m:\u001b[0m\u001b[0;34m\u001b[0m\u001b[0;34m\u001b[0m\u001b[0m\n\u001b[0;32m--> 833\u001b[0;31m                     \u001b[0mself\u001b[0m\u001b[0;34m.\u001b[0m\u001b[0m_output\u001b[0m\u001b[0;34m.\u001b[0m\u001b[0mextend\u001b[0m\u001b[0;34m(\u001b[0m\u001b[0mjob\u001b[0m\u001b[0;34m.\u001b[0m\u001b[0mget\u001b[0m\u001b[0;34m(\u001b[0m\u001b[0mtimeout\u001b[0m\u001b[0;34m=\u001b[0m\u001b[0mself\u001b[0m\u001b[0;34m.\u001b[0m\u001b[0mtimeout\u001b[0m\u001b[0;34m)\u001b[0m\u001b[0;34m)\u001b[0m\u001b[0;34m\u001b[0m\u001b[0;34m\u001b[0m\u001b[0m\n\u001b[0m\u001b[1;32m    834\u001b[0m                 \u001b[0;32melse\u001b[0m\u001b[0;34m:\u001b[0m\u001b[0;34m\u001b[0m\u001b[0;34m\u001b[0m\u001b[0m\n",
      "\u001b[0;32m/usr/local/lib/python3.7/site-packages/sklearn/externals/joblib/_parallel_backends.py\u001b[0m in \u001b[0;36mwrap_future_result\u001b[0;34m(future, timeout)\u001b[0m\n\u001b[1;32m    520\u001b[0m         \u001b[0;32mtry\u001b[0m\u001b[0;34m:\u001b[0m\u001b[0;34m\u001b[0m\u001b[0;34m\u001b[0m\u001b[0m\n\u001b[0;32m--> 521\u001b[0;31m             \u001b[0;32mreturn\u001b[0m \u001b[0mfuture\u001b[0m\u001b[0;34m.\u001b[0m\u001b[0mresult\u001b[0m\u001b[0;34m(\u001b[0m\u001b[0mtimeout\u001b[0m\u001b[0;34m=\u001b[0m\u001b[0mtimeout\u001b[0m\u001b[0;34m)\u001b[0m\u001b[0;34m\u001b[0m\u001b[0;34m\u001b[0m\u001b[0m\n\u001b[0m\u001b[1;32m    522\u001b[0m         \u001b[0;32mexcept\u001b[0m \u001b[0mLokyTimeoutError\u001b[0m\u001b[0;34m:\u001b[0m\u001b[0;34m\u001b[0m\u001b[0;34m\u001b[0m\u001b[0m\n",
      "\u001b[0;32m/usr/local/Cellar/python/3.7.3/Frameworks/Python.framework/Versions/3.7/lib/python3.7/concurrent/futures/_base.py\u001b[0m in \u001b[0;36mresult\u001b[0;34m(self, timeout)\u001b[0m\n\u001b[1;32m    426\u001b[0m \u001b[0;34m\u001b[0m\u001b[0m\n\u001b[0;32m--> 427\u001b[0;31m             \u001b[0mself\u001b[0m\u001b[0;34m.\u001b[0m\u001b[0m_condition\u001b[0m\u001b[0;34m.\u001b[0m\u001b[0mwait\u001b[0m\u001b[0;34m(\u001b[0m\u001b[0mtimeout\u001b[0m\u001b[0;34m)\u001b[0m\u001b[0;34m\u001b[0m\u001b[0;34m\u001b[0m\u001b[0m\n\u001b[0m\u001b[1;32m    428\u001b[0m \u001b[0;34m\u001b[0m\u001b[0m\n",
      "\u001b[0;32m/usr/local/Cellar/python/3.7.3/Frameworks/Python.framework/Versions/3.7/lib/python3.7/threading.py\u001b[0m in \u001b[0;36mwait\u001b[0;34m(self, timeout)\u001b[0m\n\u001b[1;32m    295\u001b[0m             \u001b[0;32mif\u001b[0m \u001b[0mtimeout\u001b[0m \u001b[0;32mis\u001b[0m \u001b[0;32mNone\u001b[0m\u001b[0;34m:\u001b[0m\u001b[0;34m\u001b[0m\u001b[0;34m\u001b[0m\u001b[0m\n\u001b[0;32m--> 296\u001b[0;31m                 \u001b[0mwaiter\u001b[0m\u001b[0;34m.\u001b[0m\u001b[0macquire\u001b[0m\u001b[0;34m(\u001b[0m\u001b[0;34m)\u001b[0m\u001b[0;34m\u001b[0m\u001b[0;34m\u001b[0m\u001b[0m\n\u001b[0m\u001b[1;32m    297\u001b[0m                 \u001b[0mgotit\u001b[0m \u001b[0;34m=\u001b[0m \u001b[0;32mTrue\u001b[0m\u001b[0;34m\u001b[0m\u001b[0;34m\u001b[0m\u001b[0m\n",
      "\u001b[0;31mKeyboardInterrupt\u001b[0m: ",
      "\nDuring handling of the above exception, another exception occurred:\n",
      "\u001b[0;31mKeyboardInterrupt\u001b[0m                         Traceback (most recent call last)",
      "\u001b[0;32m<ipython-input-37-23a7b673f3c9>\u001b[0m in \u001b[0;36m<module>\u001b[0;34m\u001b[0m\n\u001b[1;32m     54\u001b[0m \u001b[0;31m# Here we go\u001b[0m\u001b[0;34m\u001b[0m\u001b[0;34m\u001b[0m\u001b[0;34m\u001b[0m\u001b[0m\n\u001b[1;32m     55\u001b[0m \u001b[0mstart_time\u001b[0m \u001b[0;34m=\u001b[0m \u001b[0mtimer\u001b[0m\u001b[0;34m(\u001b[0m\u001b[0;32mNone\u001b[0m\u001b[0;34m)\u001b[0m \u001b[0;31m# timing starts from this point for \"start_time\" variable\u001b[0m\u001b[0;34m\u001b[0m\u001b[0;34m\u001b[0m\u001b[0m\n\u001b[0;32m---> 56\u001b[0;31m random_search.fit(X_resampled, y_smt\n\u001b[0m\u001b[1;32m     57\u001b[0m \u001b[0;31m#                   , eval_metric=eval_metric, eval_set=eval_set\u001b[0m\u001b[0;34m\u001b[0m\u001b[0;34m\u001b[0m\u001b[0;34m\u001b[0m\u001b[0m\n\u001b[1;32m     58\u001b[0m                  )\n",
      "\u001b[0;32m/usr/local/lib/python3.7/site-packages/sklearn/model_selection/_search.py\u001b[0m in \u001b[0;36mfit\u001b[0;34m(self, X, y, groups, **fit_params)\u001b[0m\n\u001b[1;32m    720\u001b[0m                 \u001b[0;32mreturn\u001b[0m \u001b[0mresults_container\u001b[0m\u001b[0;34m[\u001b[0m\u001b[0;36m0\u001b[0m\u001b[0;34m]\u001b[0m\u001b[0;34m\u001b[0m\u001b[0;34m\u001b[0m\u001b[0m\n\u001b[1;32m    721\u001b[0m \u001b[0;34m\u001b[0m\u001b[0m\n\u001b[0;32m--> 722\u001b[0;31m             \u001b[0mself\u001b[0m\u001b[0;34m.\u001b[0m\u001b[0m_run_search\u001b[0m\u001b[0;34m(\u001b[0m\u001b[0mevaluate_candidates\u001b[0m\u001b[0;34m)\u001b[0m\u001b[0;34m\u001b[0m\u001b[0;34m\u001b[0m\u001b[0m\n\u001b[0m\u001b[1;32m    723\u001b[0m \u001b[0;34m\u001b[0m\u001b[0m\n\u001b[1;32m    724\u001b[0m         \u001b[0mresults\u001b[0m \u001b[0;34m=\u001b[0m \u001b[0mresults_container\u001b[0m\u001b[0;34m[\u001b[0m\u001b[0;36m0\u001b[0m\u001b[0;34m]\u001b[0m\u001b[0;34m\u001b[0m\u001b[0;34m\u001b[0m\u001b[0m\n",
      "\u001b[0;32m/usr/local/lib/python3.7/site-packages/sklearn/model_selection/_search.py\u001b[0m in \u001b[0;36m_run_search\u001b[0;34m(self, evaluate_candidates)\u001b[0m\n\u001b[1;32m   1189\u001b[0m     \u001b[0;32mdef\u001b[0m \u001b[0m_run_search\u001b[0m\u001b[0;34m(\u001b[0m\u001b[0mself\u001b[0m\u001b[0;34m,\u001b[0m \u001b[0mevaluate_candidates\u001b[0m\u001b[0;34m)\u001b[0m\u001b[0;34m:\u001b[0m\u001b[0;34m\u001b[0m\u001b[0;34m\u001b[0m\u001b[0m\n\u001b[1;32m   1190\u001b[0m         \u001b[0;34m\"\"\"Search all candidates in param_grid\"\"\"\u001b[0m\u001b[0;34m\u001b[0m\u001b[0;34m\u001b[0m\u001b[0m\n\u001b[0;32m-> 1191\u001b[0;31m         \u001b[0mevaluate_candidates\u001b[0m\u001b[0;34m(\u001b[0m\u001b[0mParameterGrid\u001b[0m\u001b[0;34m(\u001b[0m\u001b[0mself\u001b[0m\u001b[0;34m.\u001b[0m\u001b[0mparam_grid\u001b[0m\u001b[0;34m)\u001b[0m\u001b[0;34m)\u001b[0m\u001b[0;34m\u001b[0m\u001b[0;34m\u001b[0m\u001b[0m\n\u001b[0m\u001b[1;32m   1192\u001b[0m \u001b[0;34m\u001b[0m\u001b[0m\n\u001b[1;32m   1193\u001b[0m \u001b[0;34m\u001b[0m\u001b[0m\n",
      "\u001b[0;32m/usr/local/lib/python3.7/site-packages/sklearn/model_selection/_search.py\u001b[0m in \u001b[0;36mevaluate_candidates\u001b[0;34m(candidate_params)\u001b[0m\n\u001b[1;32m    709\u001b[0m                                \u001b[0;32mfor\u001b[0m \u001b[0mparameters\u001b[0m\u001b[0;34m,\u001b[0m \u001b[0;34m(\u001b[0m\u001b[0mtrain\u001b[0m\u001b[0;34m,\u001b[0m \u001b[0mtest\u001b[0m\u001b[0;34m)\u001b[0m\u001b[0;34m\u001b[0m\u001b[0;34m\u001b[0m\u001b[0m\n\u001b[1;32m    710\u001b[0m                                in product(candidate_params,\n\u001b[0;32m--> 711\u001b[0;31m                                           cv.split(X, y, groups)))\n\u001b[0m\u001b[1;32m    712\u001b[0m \u001b[0;34m\u001b[0m\u001b[0m\n\u001b[1;32m    713\u001b[0m                 \u001b[0mall_candidate_params\u001b[0m\u001b[0;34m.\u001b[0m\u001b[0mextend\u001b[0m\u001b[0;34m(\u001b[0m\u001b[0mcandidate_params\u001b[0m\u001b[0;34m)\u001b[0m\u001b[0;34m\u001b[0m\u001b[0;34m\u001b[0m\u001b[0m\n",
      "\u001b[0;32m/usr/local/lib/python3.7/site-packages/sklearn/externals/joblib/parallel.py\u001b[0m in \u001b[0;36m__call__\u001b[0;34m(self, iterable)\u001b[0m\n\u001b[1;32m    928\u001b[0m \u001b[0;34m\u001b[0m\u001b[0m\n\u001b[1;32m    929\u001b[0m             \u001b[0;32mwith\u001b[0m \u001b[0mself\u001b[0m\u001b[0;34m.\u001b[0m\u001b[0m_backend\u001b[0m\u001b[0;34m.\u001b[0m\u001b[0mretrieval_context\u001b[0m\u001b[0;34m(\u001b[0m\u001b[0;34m)\u001b[0m\u001b[0;34m:\u001b[0m\u001b[0;34m\u001b[0m\u001b[0;34m\u001b[0m\u001b[0m\n\u001b[0;32m--> 930\u001b[0;31m                 \u001b[0mself\u001b[0m\u001b[0;34m.\u001b[0m\u001b[0mretrieve\u001b[0m\u001b[0;34m(\u001b[0m\u001b[0;34m)\u001b[0m\u001b[0;34m\u001b[0m\u001b[0;34m\u001b[0m\u001b[0m\n\u001b[0m\u001b[1;32m    931\u001b[0m             \u001b[0;31m# Make sure that we get a last message telling us we are done\u001b[0m\u001b[0;34m\u001b[0m\u001b[0;34m\u001b[0m\u001b[0;34m\u001b[0m\u001b[0m\n\u001b[1;32m    932\u001b[0m             \u001b[0melapsed_time\u001b[0m \u001b[0;34m=\u001b[0m \u001b[0mtime\u001b[0m\u001b[0;34m.\u001b[0m\u001b[0mtime\u001b[0m\u001b[0;34m(\u001b[0m\u001b[0;34m)\u001b[0m \u001b[0;34m-\u001b[0m \u001b[0mself\u001b[0m\u001b[0;34m.\u001b[0m\u001b[0m_start_time\u001b[0m\u001b[0;34m\u001b[0m\u001b[0;34m\u001b[0m\u001b[0m\n",
      "\u001b[0;32m/usr/local/lib/python3.7/site-packages/sklearn/externals/joblib/parallel.py\u001b[0m in \u001b[0;36mretrieve\u001b[0;34m(self)\u001b[0m\n\u001b[1;32m    853\u001b[0m                     \u001b[0;31m# scheduling.\u001b[0m\u001b[0;34m\u001b[0m\u001b[0;34m\u001b[0m\u001b[0;34m\u001b[0m\u001b[0m\n\u001b[1;32m    854\u001b[0m                     \u001b[0mensure_ready\u001b[0m \u001b[0;34m=\u001b[0m \u001b[0mself\u001b[0m\u001b[0;34m.\u001b[0m\u001b[0m_managed_backend\u001b[0m\u001b[0;34m\u001b[0m\u001b[0;34m\u001b[0m\u001b[0m\n\u001b[0;32m--> 855\u001b[0;31m                     \u001b[0mbackend\u001b[0m\u001b[0;34m.\u001b[0m\u001b[0mabort_everything\u001b[0m\u001b[0;34m(\u001b[0m\u001b[0mensure_ready\u001b[0m\u001b[0;34m=\u001b[0m\u001b[0mensure_ready\u001b[0m\u001b[0;34m)\u001b[0m\u001b[0;34m\u001b[0m\u001b[0;34m\u001b[0m\u001b[0m\n\u001b[0m\u001b[1;32m    856\u001b[0m \u001b[0;34m\u001b[0m\u001b[0m\n\u001b[1;32m    857\u001b[0m                 \u001b[0;32mif\u001b[0m \u001b[0misinstance\u001b[0m\u001b[0;34m(\u001b[0m\u001b[0mexception\u001b[0m\u001b[0;34m,\u001b[0m \u001b[0mTransportableException\u001b[0m\u001b[0;34m)\u001b[0m\u001b[0;34m:\u001b[0m\u001b[0;34m\u001b[0m\u001b[0;34m\u001b[0m\u001b[0m\n",
      "\u001b[0;32m/usr/local/lib/python3.7/site-packages/sklearn/externals/joblib/_parallel_backends.py\u001b[0m in \u001b[0;36mabort_everything\u001b[0;34m(self, ensure_ready)\u001b[0m\n\u001b[1;32m    537\u001b[0m         \"\"\"\n\u001b[1;32m    538\u001b[0m         \u001b[0mself\u001b[0m\u001b[0;34m.\u001b[0m\u001b[0m_workers\u001b[0m\u001b[0;34m.\u001b[0m\u001b[0mshutdown\u001b[0m\u001b[0;34m(\u001b[0m\u001b[0mkill_workers\u001b[0m\u001b[0;34m=\u001b[0m\u001b[0;32mTrue\u001b[0m\u001b[0;34m)\u001b[0m\u001b[0;34m\u001b[0m\u001b[0;34m\u001b[0m\u001b[0m\n\u001b[0;32m--> 539\u001b[0;31m         \u001b[0mdelete_folder\u001b[0m\u001b[0;34m(\u001b[0m\u001b[0mself\u001b[0m\u001b[0;34m.\u001b[0m\u001b[0m_workers\u001b[0m\u001b[0;34m.\u001b[0m\u001b[0m_temp_folder\u001b[0m\u001b[0;34m)\u001b[0m\u001b[0;34m\u001b[0m\u001b[0;34m\u001b[0m\u001b[0m\n\u001b[0m\u001b[1;32m    540\u001b[0m         \u001b[0mself\u001b[0m\u001b[0;34m.\u001b[0m\u001b[0m_workers\u001b[0m \u001b[0;34m=\u001b[0m \u001b[0;32mNone\u001b[0m\u001b[0;34m\u001b[0m\u001b[0;34m\u001b[0m\u001b[0m\n\u001b[1;32m    541\u001b[0m         \u001b[0;32mif\u001b[0m \u001b[0mensure_ready\u001b[0m\u001b[0;34m:\u001b[0m\u001b[0;34m\u001b[0m\u001b[0;34m\u001b[0m\u001b[0m\n",
      "\u001b[0;32m/usr/local/lib/python3.7/site-packages/sklearn/externals/joblib/disk.py\u001b[0m in \u001b[0;36mdelete_folder\u001b[0;34m(folder_path, onerror)\u001b[0m\n\u001b[1;32m    113\u001b[0m             \u001b[0;32mwhile\u001b[0m \u001b[0;32mTrue\u001b[0m\u001b[0;34m:\u001b[0m\u001b[0;34m\u001b[0m\u001b[0;34m\u001b[0m\u001b[0m\n\u001b[1;32m    114\u001b[0m                 \u001b[0;32mtry\u001b[0m\u001b[0;34m:\u001b[0m\u001b[0;34m\u001b[0m\u001b[0;34m\u001b[0m\u001b[0m\n\u001b[0;32m--> 115\u001b[0;31m                     \u001b[0mshutil\u001b[0m\u001b[0;34m.\u001b[0m\u001b[0mrmtree\u001b[0m\u001b[0;34m(\u001b[0m\u001b[0mfolder_path\u001b[0m\u001b[0;34m,\u001b[0m \u001b[0;32mFalse\u001b[0m\u001b[0;34m,\u001b[0m \u001b[0;32mNone\u001b[0m\u001b[0;34m)\u001b[0m\u001b[0;34m\u001b[0m\u001b[0;34m\u001b[0m\u001b[0m\n\u001b[0m\u001b[1;32m    116\u001b[0m                     \u001b[0;32mbreak\u001b[0m\u001b[0;34m\u001b[0m\u001b[0;34m\u001b[0m\u001b[0m\n\u001b[1;32m    117\u001b[0m                 \u001b[0;32mexcept\u001b[0m \u001b[0;34m(\u001b[0m\u001b[0mOSError\u001b[0m\u001b[0;34m,\u001b[0m \u001b[0mWindowsError\u001b[0m\u001b[0;34m)\u001b[0m\u001b[0;34m:\u001b[0m\u001b[0;34m\u001b[0m\u001b[0;34m\u001b[0m\u001b[0m\n",
      "\u001b[0;32m/usr/local/Cellar/python/3.7.3/Frameworks/Python.framework/Versions/3.7/lib/python3.7/shutil.py\u001b[0m in \u001b[0;36mrmtree\u001b[0;34m(path, ignore_errors, onerror)\u001b[0m\n\u001b[1;32m    489\u001b[0m         \u001b[0;32mtry\u001b[0m\u001b[0;34m:\u001b[0m\u001b[0;34m\u001b[0m\u001b[0;34m\u001b[0m\u001b[0m\n\u001b[1;32m    490\u001b[0m             \u001b[0;32mif\u001b[0m \u001b[0mos\u001b[0m\u001b[0;34m.\u001b[0m\u001b[0mpath\u001b[0m\u001b[0;34m.\u001b[0m\u001b[0msamestat\u001b[0m\u001b[0;34m(\u001b[0m\u001b[0morig_st\u001b[0m\u001b[0;34m,\u001b[0m \u001b[0mos\u001b[0m\u001b[0;34m.\u001b[0m\u001b[0mfstat\u001b[0m\u001b[0;34m(\u001b[0m\u001b[0mfd\u001b[0m\u001b[0;34m)\u001b[0m\u001b[0;34m)\u001b[0m\u001b[0;34m:\u001b[0m\u001b[0;34m\u001b[0m\u001b[0;34m\u001b[0m\u001b[0m\n\u001b[0;32m--> 491\u001b[0;31m                 \u001b[0m_rmtree_safe_fd\u001b[0m\u001b[0;34m(\u001b[0m\u001b[0mfd\u001b[0m\u001b[0;34m,\u001b[0m \u001b[0mpath\u001b[0m\u001b[0;34m,\u001b[0m \u001b[0monerror\u001b[0m\u001b[0;34m)\u001b[0m\u001b[0;34m\u001b[0m\u001b[0;34m\u001b[0m\u001b[0m\n\u001b[0m\u001b[1;32m    492\u001b[0m                 \u001b[0;32mtry\u001b[0m\u001b[0;34m:\u001b[0m\u001b[0;34m\u001b[0m\u001b[0;34m\u001b[0m\u001b[0m\n\u001b[1;32m    493\u001b[0m                     \u001b[0mos\u001b[0m\u001b[0;34m.\u001b[0m\u001b[0mrmdir\u001b[0m\u001b[0;34m(\u001b[0m\u001b[0mpath\u001b[0m\u001b[0;34m)\u001b[0m\u001b[0;34m\u001b[0m\u001b[0;34m\u001b[0m\u001b[0m\n",
      "\u001b[0;32m/usr/local/Cellar/python/3.7.3/Frameworks/Python.framework/Versions/3.7/lib/python3.7/shutil.py\u001b[0m in \u001b[0;36m_rmtree_safe_fd\u001b[0;34m(topfd, path, onerror)\u001b[0m\n\u001b[1;32m    445\u001b[0m         \u001b[0;32melse\u001b[0m\u001b[0;34m:\u001b[0m\u001b[0;34m\u001b[0m\u001b[0;34m\u001b[0m\u001b[0m\n\u001b[1;32m    446\u001b[0m             \u001b[0;32mtry\u001b[0m\u001b[0;34m:\u001b[0m\u001b[0;34m\u001b[0m\u001b[0;34m\u001b[0m\u001b[0m\n\u001b[0;32m--> 447\u001b[0;31m                 \u001b[0mos\u001b[0m\u001b[0;34m.\u001b[0m\u001b[0munlink\u001b[0m\u001b[0;34m(\u001b[0m\u001b[0mentry\u001b[0m\u001b[0;34m.\u001b[0m\u001b[0mname\u001b[0m\u001b[0;34m,\u001b[0m \u001b[0mdir_fd\u001b[0m\u001b[0;34m=\u001b[0m\u001b[0mtopfd\u001b[0m\u001b[0;34m)\u001b[0m\u001b[0;34m\u001b[0m\u001b[0;34m\u001b[0m\u001b[0m\n\u001b[0m\u001b[1;32m    448\u001b[0m             \u001b[0;32mexcept\u001b[0m \u001b[0mOSError\u001b[0m\u001b[0;34m:\u001b[0m\u001b[0;34m\u001b[0m\u001b[0;34m\u001b[0m\u001b[0m\n\u001b[1;32m    449\u001b[0m                 \u001b[0monerror\u001b[0m\u001b[0;34m(\u001b[0m\u001b[0mos\u001b[0m\u001b[0;34m.\u001b[0m\u001b[0munlink\u001b[0m\u001b[0;34m,\u001b[0m \u001b[0mfullname\u001b[0m\u001b[0;34m,\u001b[0m \u001b[0msys\u001b[0m\u001b[0;34m.\u001b[0m\u001b[0mexc_info\u001b[0m\u001b[0;34m(\u001b[0m\u001b[0;34m)\u001b[0m\u001b[0;34m)\u001b[0m\u001b[0;34m\u001b[0m\u001b[0;34m\u001b[0m\u001b[0m\n",
      "\u001b[0;31mKeyboardInterrupt\u001b[0m: "
     ]
    }
   ],
   "source": [
    "from sklearn.model_selection import GridSearchCV\n",
    "from sklearn.metrics import roc_auc_score\n",
    "from sklearn.model_selection import StratifiedKFold\n",
    "from sklearn.metrics import fbeta_score, make_scorer\n",
    "\n",
    "def timer(start_time=None):\n",
    "    if not start_time:\n",
    "        start_time = datetime.datetime.now()\n",
    "        return start_time\n",
    "    elif start_time:\n",
    "        thour, temp_sec = divmod((datetime.datetime.now() - start_time).total_seconds(), 3600)\n",
    "        tmin, tsec = divmod(temp_sec, 60)\n",
    "        print('\\n Time taken: %i hours %i minutes and %s seconds.' % (thour, tmin, round(tsec, 2)))\n",
    "\n",
    "# A parameter grid for XGBoost\n",
    "params = {\n",
    "        'gamma':[0.5, 1, 2, 5],\n",
    "        'max_depth':[1, 3, 5],\n",
    "        'learning_rate':[0.001, 0.01], \n",
    "        'n_estimators':[250 , 900, 1000],\n",
    "        'max_delta_step':[0, 0.1, 0.001, 0.2],  \n",
    "        'reg_alpha':[0.01, 0.1, 0.9, 0], \n",
    "        'reg_lambda':[0.01, 0.9, 0], \n",
    "        'base_score':[0.5, 0.1, 0.9]\n",
    "        }\n",
    "\n",
    "xgb_clf = XGBClassifier(objective='binary:logistic',booster='gbtree', n_jobs=-1, random_state=420)\n",
    "\n",
    "# eval_set = [(X_train, y_train), (X_test, y_test)]\n",
    "# eval_metric = [\"aucpr\",\"error\"]\n",
    "\n",
    "folds = 5\n",
    "param_comb = 5\n",
    "\n",
    "from sklearn.metrics import precision_recall_curve, auc, fbeta_score, balanced_accuracy_score\n",
    "\n",
    "def pr_auc_score(y_true, y_score):\n",
    "    \"\"\"\n",
    "    Generates the Area Under the Curve for precision and recall.\n",
    "    \"\"\"\n",
    "    precision, recall, thresholds = precision_recall_curve(y_true, y_score)\n",
    "    return auc(recall, precision)\n",
    "\n",
    "scorer = {'ROC_AUC':'roc_auc',\n",
    "          'RECALL':'recall'\n",
    "          \"F1\":make_scorer(f1_score, greater_is_better=True),\n",
    "          'Balanced_Accuracy':make_scorer(balanced_accuracy_score, greater_is_better=True),\n",
    "          'PR_CURVE':make_scorer(pr_auc_score, greater_is_better=True, needs_proba=True)\n",
    "         }\n",
    "\n",
    "random_search = GridSearchCV(xgb_clf, param_grid=params, \n",
    "                           scoring=scorer, n_jobs=-1, cv=folds, \n",
    "                           verbose=True, refit='ROC_AUC')\n",
    "\n",
    "# Here we go\n",
    "start_time = timer(None) # timing starts from this point for \"start_time\" variable\n",
    "random_search.fit(X_resampled, y_smt\n",
    "#                   , eval_metric=eval_metric, eval_set=eval_set\n",
    "                 )\n",
    "timer(start_time) # timing ends here for \"start_time\" variable"
   ]
  },
  {
   "cell_type": "code",
   "execution_count": 40,
   "metadata": {},
   "outputs": [
    {
     "ename": "AttributeError",
     "evalue": "'XGBClassifier' object has no attribute 'decision_function'",
     "output_type": "error",
     "traceback": [
      "\u001b[0;31m---------------------------------------------------------------------------\u001b[0m",
      "\u001b[0;31mAttributeError\u001b[0m                            Traceback (most recent call last)",
      "\u001b[0;32m<ipython-input-40-d8aedc42e542>\u001b[0m in \u001b[0;36m<module>\u001b[0;34m\u001b[0m\n\u001b[0;32m----> 1\u001b[0;31m \u001b[0mrandom_search\u001b[0m\u001b[0;34m.\u001b[0m\u001b[0mdecision_function\u001b[0m\u001b[0;34m\u001b[0m\u001b[0;34m\u001b[0m\u001b[0m\n\u001b[0m",
      "\u001b[0;32m/usr/local/lib/python3.7/site-packages/sklearn/utils/metaestimators.py\u001b[0m in \u001b[0;36m__get__\u001b[0;34m(self, obj, type)\u001b[0m\n\u001b[1;32m    110\u001b[0m                     \u001b[0;32mcontinue\u001b[0m\u001b[0;34m\u001b[0m\u001b[0;34m\u001b[0m\u001b[0m\n\u001b[1;32m    111\u001b[0m                 \u001b[0;32melse\u001b[0m\u001b[0;34m:\u001b[0m\u001b[0;34m\u001b[0m\u001b[0;34m\u001b[0m\u001b[0m\n\u001b[0;32m--> 112\u001b[0;31m                     \u001b[0mgetattr\u001b[0m\u001b[0;34m(\u001b[0m\u001b[0mdelegate\u001b[0m\u001b[0;34m,\u001b[0m \u001b[0mself\u001b[0m\u001b[0;34m.\u001b[0m\u001b[0mattribute_name\u001b[0m\u001b[0;34m)\u001b[0m\u001b[0;34m\u001b[0m\u001b[0;34m\u001b[0m\u001b[0m\n\u001b[0m\u001b[1;32m    113\u001b[0m                     \u001b[0;32mbreak\u001b[0m\u001b[0;34m\u001b[0m\u001b[0;34m\u001b[0m\u001b[0m\n\u001b[1;32m    114\u001b[0m             \u001b[0;32melse\u001b[0m\u001b[0;34m:\u001b[0m\u001b[0;34m\u001b[0m\u001b[0;34m\u001b[0m\u001b[0m\n",
      "\u001b[0;31mAttributeError\u001b[0m: 'XGBClassifier' object has no attribute 'decision_function'"
     ]
    }
   ],
   "source": [
    "random_search.decision_function"
   ]
  },
  {
   "cell_type": "code",
   "execution_count": null,
   "metadata": {},
   "outputs": [],
   "source": [
    "'''\n",
    "    File name: pso_v4.py\n",
    "    Author: Anderson Henrique de Oliveira Conceicao\n",
    "    Date created: 29/05/2017\n",
    "    Date last modified: 02/06/2017\n",
    "    Python Version: 2.7\n",
    "'''\n",
    "from math import sqrt, pow, cos, pi, exp\n",
    "import random\n",
    "import numpy as np\n",
    "from numpy import inf, array\n",
    "import scipy as sp\n",
    " \n",
    "def run(MaxIt=10000):       #MaxIt - Maximum number of iterations\n",
    "\n",
    "    #Problem Definition=================================================================================================\n",
    "    \n",
    "    def polyRel(bad_lim, good_lim, degree):  #Creates an array with the coefficients of the polynom\n",
    "        if bad_lim < good_lim:                            \n",
    "            first_x = bad_lim\n",
    "            second_x = good_lim\n",
    "            first_y = abs(1-(bad_lim/good_lim))\n",
    "            second_y = 0\n",
    "        elif bad_lim == good_lim:\n",
    "            first_x = bad_lim*0.5\n",
    "            second_x = good_lim\n",
    "            first_y = 1-(first_x/good_lim)\n",
    "            second_y = 0\n",
    "            if first_x < 0 or first_x<second_x:\n",
    "                first_x = good_lim\n",
    "                second_x = good_lim*1.5\n",
    "                first_y = 0\n",
    "                second_y = abs(1-(good_lim/second_x))\n",
    "        else:\n",
    "            first_x = good_lim\n",
    "            second_x = bad_lim\n",
    "            first_y = 0\n",
    "            second_y = abs(1-(bad_lim/good_lim))\n",
    "    \n",
    "        X = [ 0, first_x, second_x, 1 ]\n",
    "        Y = [ 1, first_y, second_y, 1 ]\n",
    "        \n",
    "        try:\n",
    "            P = sp.polyfit(X, Y, degree)\n",
    "        except sp.RankWarning :             #To adjust if the polynom is not well conditioned\n",
    "            P = sp.polyfit(X, Y, degree-1)\n",
    "    \n",
    "        return P\n",
    "\n",
    "#     #It creates the polynom that defines the parameter dynamics\n",
    "#     #                    Bad     Good  Degree\n",
    "#     P0 = list(polyRel( 0.57962, 0.59091, 3))    #AAET    \n",
    "#     P1 = list(polyRel( 0.58664, 0.59591, 3))    #AAST\n",
    "#     P2 = list(polyRel( 0.00292, 0.00021, 3))    #VI\n",
    "#     P3 = list(polyRel( 0.11682, 0.07932, 3))    #QMA\n",
    "#     P4 = list(polyRel( 0.11947, 0.12379, 3))    #IMAI\n",
    "#     P5 = list(polyRel( 0.58417, 0.58726, 3))    #VA\n",
    "    \n",
    "    # Polynomial translation         A*X^3    +    B*X^2   +    C*X^1   +    D*X^0 =====================================\n",
    "    def polyeval(x, poly): return poly[0]*x**3+poly[1]*x**2+poly[2]*x**1+poly[3]*x**0\n",
    "    \n",
    "    def fitnessFunc(x):\n",
    "#         AAET = polyeval(x[0], P0)   # AAET =  x[0] ;\n",
    "#         AAST = polyeval(x[1], P1)   # AAST =  x[1] ;\n",
    "#         VI   = polyeval(x[2], P2)   # VI   =  x[2] ; \n",
    "#         QMA  = polyeval(x[3], P3)   # QMA  =  x[3] ;\n",
    "#         IMAI = polyeval(x[4], P4)   # IMAI =  x[4] ;\n",
    "#         VA   = polyeval(x[5], P5)   # VA   =  x[5].\n",
    "#         #Fitness function\n",
    "#         try: return ((VA/(AAST-AAET))*(VI/(AAST-AAET))**(-1)*(AAST/AAET)**(-1)*(QMA/IMAI)**(-1))\n",
    "#         except ZeroDivisionError: return 'inf'\n",
    "        x[0]*\n",
    "                                                                        \n",
    "    nVar = 3                            #Number of dimensions                         \n",
    "    VarMin = 0                          #Lower bound of decision variables              \n",
    "    VarMax = 1                          #Upper bound of decision variables             \n",
    "    MaxVelocity = 0.002*(VarMax-VarMin) #Velocity upper bound            \n",
    "    MinVelocity = -MaxVelocity          #Velocity lower bound               \n",
    "    \n",
    "    #Constriction coefficients==========================================================================================\n",
    "    kappa = 1\n",
    "    phi1 = 2.05\n",
    "    phi2 = 2.05\n",
    "    phi = phi1 + phi2\n",
    "    chi = 2*kappa/abs(2-phi-sqrt(phi**2-4*phi))     \n",
    "    random.seed(0)\n",
    "    \n",
    "    #Parameters of PSO==================================================================================================\n",
    "    range_cost = 1.5         #Defines the range in which the algorithm will adjust around zero cost\n",
    "    nPop = 35                #Population size (swarm size)\n",
    "    w = chi                  #Inertia coefficient\n",
    "    c1 = chi*phi1            #Personal acceleration coefficient\n",
    "    c2 = chi*phi2            #Social acceleration coefficient\n",
    "    GlobalBestCost = '-inf'  #Global best cost\n",
    "    GlobalBestPosition = []  #Global best position\n",
    "    Swarm = []               #Swarm population array\n",
    "    \n",
    "    #Useful functions===================================================================================================\n",
    "\n",
    "    #Unnormalize the value\n",
    "    def unnormalize(n,min,max): \n",
    "        return (max-min)*n+min  #unnormalize(number, minimum value, maximal value)\n",
    "    #Creates an array of random numbers\n",
    "    def randArray(size):        \n",
    "        aux = []\n",
    "        for i in xrange(0,size): aux.append(random.uniform(VarMin,VarMax))\n",
    "        return aux\n",
    "    #It limits the number in a defined range\n",
    "    def clamp(x,max,min):             #clamp(array, max bound, min bound);\n",
    "        if isinstance(x, list):       #or clamp(scalar, max bound, min bound);\n",
    "            for i in xrange(0, len(x)):\n",
    "                if x[i] >= max: x[i] = max\n",
    "                elif x[i] <= min: x[i] = min\n",
    "        else:\n",
    "            if x >= max: x = max\n",
    "            elif x <= min: x = min\n",
    "        return x\n",
    "    \n",
    "    #Class definition===================================================================================================\n",
    "    class Particle(object):              #Defining the Particle's class\n",
    "        def __init__(self, Position=None, Velocity=None, \\\n",
    "            Cost=None, BestPosition=None, BestCost=None):\n",
    "\n",
    "            self.Position =[]            #Characteristics of the particle\n",
    "            self.Velocity = []\n",
    "            self.Cost = 0\n",
    "            self.BestPosition = []\n",
    "            self.BestCost = []\n",
    "    \n",
    "    #Initializing the algorithm=========================================================================================\n",
    "    #Swarm population array\n",
    "    for i in xrange(0,nPop): Swarm.append(Particle())\n",
    "    \n",
    "    #Initialize population members\n",
    "    for i in xrange(0,nPop):\n",
    "        #Generate random solution\n",
    "        Swarm[i].Position = list(randArray(nVar))       \n",
    "        #Initialize velocity\n",
    "        Swarm[i].Velocity = np.zeros(nVar)                    \n",
    "        #Evaluation\n",
    "        Swarm[i].Cost = fitnessFunc(Swarm[i].Position) \n",
    "        #Update personal best position\n",
    "        Swarm[i].BestPosition = list(Swarm[i].Position)       \n",
    "        #Update personal best cost\n",
    "        Swarm[i].BestCost = Swarm[i].Cost               \n",
    "        #It compares with the Global Best Cost and updates the value\n",
    "        if Swarm[i].BestCost < GlobalBestCost:\n",
    "            GlobalBestCost = Swarm[i].BestCost\n",
    "            GlobalBestPosition = list(Swarm[i].BestPosition)\n",
    "    \n",
    "    #Array to hold best cost value on each iteration\n",
    "    BestCosts = []\n",
    "    BestPositions = []\n",
    "    BestCosts.append(GlobalBestCost)\n",
    "    BestPositions.append(GlobalBestPosition)\n",
    "    \n",
    "    #Main loop of PSO\n",
    "    for i in xrange(1,MaxIt):\n",
    "        \n",
    "        for j in xrange(0,nPop):\n",
    "            # Update Velocity: v = w*v + c1*rand*(pbest-x) + c2*rand*(gbest-x)\n",
    "            Swarm[j].Velocity = list(w*np.array(Swarm[j].Velocity) \\\n",
    "                                +c1*random.uniform(0,1)*(np.array(Swarm[j].BestPosition)-np.array(Swarm[j].Position)) \\\n",
    "                                +c2*random.uniform(0,1)*(np.array(GlobalBestPosition)-np.array(Swarm[j].Position)))\n",
    "            #Applying lower and upper bound limits\n",
    "            Swarm[j].Velocity = clamp(Swarm[j].Velocity, MaxVelocity, MinVelocity)         \n",
    "            #Update position\n",
    "            Swarm[j].Position = np.array(Swarm[j].Position) + np.array(Swarm[j].Velocity)  \n",
    "            #Applying lower and upper bound limits, by defining \n",
    "            #the lower bound limit as: mean - standard deviations\n",
    "            #and the upper bound limits as: mean + standard deviations\n",
    "            Swarm[j].Position[0] = clamp(Swarm[j].Position[0], 1, 0.16667)             # x = AAET = x[0] ;\n",
    "            Swarm[j].Position[1] = clamp(Swarm[j].Position[1], 1, 0.16667)             # y = AAST = x[1] ;\n",
    "            Swarm[j].Position[2] = clamp(Swarm[j].Position[2], 0.00021+0.00075, 0)     # z =  VI  = x[2] ;\n",
    "            Swarm[j].Position[3] = clamp(Swarm[j].Position[3], 0.07932+0.12049, 0)     # v = QMA  = x[3] ;\n",
    "            Swarm[j].Position[4] = clamp(Swarm[j].Position[4], 0.12379+0.12910, 0)     # w = IMAI = x[4] ;\n",
    "            Swarm[j].Position[5] = clamp(Swarm[j].Position[5], 0.97727, 0)             # u =  VA  = x[5] .\n",
    "            #Evaluation\n",
    "            Swarm[j].Cost = fitnessFunc(Swarm[j].Position)\n",
    "            #Update personal best\n",
    "            if (Swarm[j].Cost <= Swarm[j].BestCost and Swarm[j].Cost > -range_cost) or\\\n",
    "               (Swarm[j].Cost >= Swarm[j].BestCost and Swarm[j].Cost < range_cost):\n",
    "                Swarm[j].BestPosition = list(Swarm[j].Position)  \n",
    "                Swarm[j].BestCost = Swarm[j].Cost\n",
    "            #Update global best\n",
    "            if (Swarm[j].BestCost <= GlobalBestCost and Swarm[j].BestCost > -range_cost) or\\\n",
    "               (Swarm[j].BestCost >= GlobalBestCost and Swarm[j].BestCost < range_cost):          \n",
    "                GlobalBestCost = Swarm[j].BestCost\n",
    "                GlobalBestPosition = list(Swarm[j].Position)\n",
    "            #Stores the best cost value\n",
    "            BestCosts.append(GlobalBestCost)         \n",
    "            #Stores the best position    \n",
    "            BestPositions.append(GlobalBestPosition) \n",
    "\n",
    "    #Unnormalizing the variables by the limits defined on the table=====================================================\n",
    "    AAET = unnormalize(BestPositions[-1][0], 0, 4387014266.17000)\n",
    "    AAST = unnormalize(BestPositions[-1][1], 0, 2561890616.28000)\n",
    "    VI   = unnormalize(BestPositions[-1][2], 25.18000, 268931997.14000)\n",
    "    QMA  = unnormalize(BestPositions[-1][3], 1, 63)\n",
    "    IMAI = unnormalize(BestPositions[-1][4], 0, 1056)\n",
    "    VA   = unnormalize(BestPositions[-1][5], 0, 39944239.59000)\n",
    "    \n",
    "    # x = AAET = x[0] ; y = AAST = x[1] ; z = VI = x[2] ; v = QMA = x[3] ; w = IMAI = x[4] ; u = VA = x[5]==============\n",
    "    print \"The results are ready!\", \"\\n\"\n",
    "    print \"This was the Best Cost:\", BestCosts[-1]\n",
    "    print \"This was the Best Position:\", BestPositions[-1]\n",
    "\n",
    "    return BestCosts[-1],BestPositions[-1]\n",
    "\n"
   ]
  },
  {
   "cell_type": "code",
   "execution_count": null,
   "metadata": {},
   "outputs": [],
   "source": [
    "from keras.models import Sequential\n",
    "from keras.layers.core import Dense, Dropout, Activation\n",
    "from keras.optimizers import SGD\n",
    "from keras.utils import np_utils\n",
    "from keras import backend as K\n",
    "import tensorflow as tf\n",
    "\n",
    "def recall_metric(y_true, y_pred):\n",
    "    \"\"\"Recall metric.\n",
    "\n",
    "    Only computes a batch-wise average of recall.\n",
    "\n",
    "    Computes the recall, a metric for multi-label classification of\n",
    "    how many relevant items are selected.\n",
    "    \"\"\"\n",
    "    true_positives = K.sum(K.round(K.clip(y_true * y_pred, 0, 1)))\n",
    "    possible_positives = K.sum(K.round(K.clip(y_true, 0, 1)))\n",
    "    recall = true_positives / (possible_positives + K.epsilon())\n",
    "    return recall\n",
    "\n",
    "def precision_metric(y_true, y_pred):\n",
    "    \"\"\"Precision metric.\n",
    "\n",
    "    Only computes a batch-wise average of precision.\n",
    "\n",
    "    Computes the precision, a metric for multi-label classification of\n",
    "    how many selected items are relevant.\n",
    "    \"\"\"\n",
    "    true_positives = K.sum(K.round(K.clip(y_true * y_pred, 0, 1)))\n",
    "    predicted_positives = K.sum(K.round(K.clip(y_pred, 0, 1)))\n",
    "    precision = true_positives / (predicted_positives + K.epsilon())\n",
    "    return precision\n",
    "\n",
    "def precision_loss(y_true, y_pred):\n",
    "    \"\"\"Precision metric.\n",
    "\n",
    "    Only computes a batch-wise average of precision.\n",
    "\n",
    "    Computes the precision, a metric for multi-label classification of\n",
    "    how many selected items are relevant.\n",
    "    \"\"\"\n",
    "    true_positives = K.sum(K.round(K.clip(y_true * y_pred, 0, 1)))\n",
    "    predicted_positives = K.sum(K.round(K.clip(y_pred, 0, 1)))\n",
    "    precision = true_positives / (predicted_positives + K.epsilon())\n",
    "    return 1-precision\n",
    "\n",
    "def f1_metric(y_true, y_pred):\n",
    "    \n",
    "    precision = precision_metric(y_true, y_pred)\n",
    "    recall = recall_metric(y_true, y_pred)\n",
    "    return 2*((precision*recall)/(precision+recall+K.epsilon()))\n",
    "\n",
    "def f1_loss(y_true, y_pred):\n",
    "    \n",
    "    tp = K.sum(K.cast(y_true*y_pred, 'float'), axis=0)\n",
    "    tn = K.sum(K.cast((1-y_true)*(1-y_pred), 'float'), axis=0)\n",
    "    fp = K.sum(K.cast((1-y_true)*y_pred, 'float'), axis=0)\n",
    "    fn = K.sum(K.cast(y_true*(1-y_pred), 'float'), axis=0)\n",
    "\n",
    "    p = tp / (tp + fp + K.epsilon())\n",
    "    r = tp / (tp + fn + K.epsilon())\n",
    "\n",
    "    f1 = 2*p*r / (p+r+K.epsilon())\n",
    "    f1 = tf.where(tf.is_nan(f1), tf.zeros_like(f1), f1)\n",
    "    return 1 - K.mean(f1)\n",
    "\n",
    "# Building the model\n",
    "mlp_model = Sequential()\n",
    "mlp_model.add(Dense(6, activation='relu', input_shape=(11,)))\n",
    "mlp_model.add(Dense(1, activation='sigmoid'))\n",
    "\n",
    "# Compiling the model\n",
    "mlp_model.compile(loss = 'accuracy', optimizer='rmsprop', metrics=[precision_metric])\n",
    "mlp_model.summary()"
   ]
  },
  {
   "cell_type": "code",
   "execution_count": null,
   "metadata": {},
   "outputs": [],
   "source": []
  }
 ],
 "metadata": {
  "kernelspec": {
   "display_name": "Python 3",
   "language": "python",
   "name": "python3"
  },
  "language_info": {
   "codemirror_mode": {
    "name": "ipython",
    "version": 3
   },
   "file_extension": ".py",
   "mimetype": "text/x-python",
   "name": "python",
   "nbconvert_exporter": "python",
   "pygments_lexer": "ipython3",
   "version": "3.7.3"
  }
 },
 "nbformat": 4,
 "nbformat_minor": 2
}
